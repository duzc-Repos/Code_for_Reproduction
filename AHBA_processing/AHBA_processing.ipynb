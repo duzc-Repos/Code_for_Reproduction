{
 "cells": [
  {
   "cell_type": "code",
   "execution_count": 68,
   "metadata": {},
   "outputs": [],
   "source": [
    "import os\n",
    "\n",
    "import numpy as np\n",
    "import matplotlib.pyplot as plt\n",
    "import pandas as pd\n",
    "import pickle"
   ]
  },
  {
   "cell_type": "code",
   "execution_count": 2,
   "metadata": {},
   "outputs": [],
   "source": [
    "# prepare probe annotation file\n",
    "! ls ./data/AHBA_expression/normalized_microarray_donor0*/probes.csv |xargs cat |sort |uniq |grep -v \"^probe\" >./data/probes.csv"
   ]
  },
  {
   "cell_type": "markdown",
   "metadata": {},
   "source": [
    "# 0.Preprocessing"
   ]
  },
  {
   "cell_type": "code",
   "execution_count": 166,
   "metadata": {},
   "outputs": [
    {
     "data": {
      "text/plain": [
       "(58692, 7)"
      ]
     },
     "execution_count": 166,
     "metadata": {},
     "output_type": "execute_result"
    }
   ],
   "source": [
    "# load probe information\n",
    "file_probe_annot = \"./data/probes.csv\"\n",
    "probe_annot = pd.read_csv(\"./data/probes.csv\", sep=\",\", header=None)\n",
    "probe_annot.columns = [\"probe_id\", \"probe_name\", \"gene_id\", \"gene_symbol\", \"gene_name\", \"entrez_id\", \"chromosome\"]\n",
    "probe_annot.shape"
   ]
  },
  {
   "cell_type": "code",
   "execution_count": 167,
   "metadata": {},
   "outputs": [
    {
     "data": {
      "text/plain": [
       "(array([ 1287, 42383,  2151,    71]), (45892, 5))"
      ]
     },
     "execution_count": 167,
     "metadata": {},
     "output_type": "execute_result"
    }
   ],
   "source": [
    "# load re-annotation information\n",
    "file_probe_reannot = \"./data/AHBA_expression/reannotated.csv.gz\"\n",
    "probe_reannot = pd.read_csv(file_probe_reannot)\n",
    "np.bincount(probe_reannot['compare']), probe_reannot.shape\n",
    "# mismatch(0), match(1), introduced(2), not Given(3)"
   ]
  },
  {
   "cell_type": "code",
   "execution_count": 168,
   "metadata": {},
   "outputs": [],
   "source": [
    "# load sample information\n",
    "data = {}\n",
    "for subj in range(1, 7):\n",
    "    file_microarray = f\"./data/AHBA_expression/normalized_microarray_donor0{subj}/MicroarrayExpression.csv\"\n",
    "    file_noise = f\"./data/AHBA_expression/normalized_microarray_donor0{subj}/PACall.csv\"\n",
    "    file_annot = f\"./data/AHBA_expression/normalized_microarray_donor0{subj}/SampleAnnot.csv\"\n",
    "\n",
    "    data[subj] = {\"exprs\" : pd.read_csv(file_microarray, header=None, index_col=0),\n",
    "                  \"noise\" : pd.read_csv(file_noise, header=None, index_col=0),\n",
    "                  \"annot\" : pd.read_csv(file_annot)}\n",
    "    data[subj][\"annot\"].index = data[subj][\"exprs\"].columns\n",
    "\n",
    "file_rawdata = './AHBA_processing_results/rawdata.pkl'\n",
    "pickle.dump([probe_annot, probe_reannot, data], open(file_rawdata, 'wb'))"
   ]
  },
  {
   "cell_type": "markdown",
   "metadata": {},
   "source": [
    "# 1.Filtering samples and probes"
   ]
  },
  {
   "cell_type": "code",
   "execution_count": 159,
   "metadata": {},
   "outputs": [],
   "source": [
    "# quick load\n",
    "file_rawdata = './AHBA_processing_results/rawdata.pkl'\n",
    "probe_annot, probe_reannot, data = pickle.load(open(file_rawdata, 'rb'))\n",
    "nSUBJ = len(data)"
   ]
  },
  {
   "cell_type": "code",
   "execution_count": 160,
   "metadata": {},
   "outputs": [],
   "source": [
    "# re-annotation\n",
    "probe_reannot_filter1 = pd.merge(probe_reannot[['probe_name', 'gene_symbol', 'entrez_id']], \n",
    "                                 probe_annot[[\"probe_name\", \"probe_id\"]], \n",
    "                                 on=\"probe_name\", how=\"left\").set_index(\"probe_id\").dropna(subset=[\"entrez_id\"])\n",
    "probe_reannot_filter1.loc[:, \"entrez_id\"] = probe_reannot_filter1[\"entrez_id\"].astype(int)"
   ]
  },
  {
   "cell_type": "code",
   "execution_count": 161,
   "metadata": {},
   "outputs": [],
   "source": [
    "# 1.1 remove sample in Brainstem(BS) and Cerebellum(CB), select reannotated probes\n",
    "index_probe_keep = probe_reannot_filter1.index\n",
    "for subj in range(1, nSUBJ+1):\n",
    "    index_sample_keep   = ~data[subj]['annot'].slab_type.isin([\"BS\", \"CB\"])\n",
    "    data[subj]['exprs'] = data[subj]['exprs'].loc[index_probe_keep, index_sample_keep]\n",
    "    data[subj]['noise'] = data[subj]['noise'].loc[index_probe_keep, index_sample_keep]\n",
    "    data[subj]['annot'] = data[subj]['annot'].loc[index_sample_keep, :]"
   ]
  },
  {
   "cell_type": "code",
   "execution_count": 162,
   "metadata": {},
   "outputs": [],
   "source": [
    "# 1.2 probe: intensity-based filtering (IBF)\n",
    "threshold = 0.5\n",
    "signal_level, n_sample = np.zeros(probe_reannot_filter1.shape[0]), 0\n",
    "for subj in range(1, nSUBJ+1):\n",
    "    signal_level += data[subj]['noise'].sum(axis=1)\n",
    "    n_sample += data[subj]['noise'].shape[1]\n",
    "index_probe_keep_IBF = (signal_level / n_sample ) > threshold\n",
    "\n",
    "probe_reannot_filter2 = probe_reannot_filter1.loc[index_probe_keep_IBF, :]\n",
    "for subj in range(1, nSUBJ+1):\n",
    "    data[subj]['exprs'] = data[subj]['exprs'].loc[index_probe_keep_IBF, :]\n",
    "    data[subj]['noise'] = data[subj]['noise'].loc[index_probe_keep_IBF, :]"
   ]
  },
  {
   "cell_type": "code",
   "execution_count": 163,
   "metadata": {},
   "outputs": [],
   "source": [
    "# 1.3 probe: select representative probe (DS method)\n",
    "region_exprs = [ data[subj]['exprs'].groupby(data[subj]['annot'].structure_id, axis=1).mean().T.rank() \n",
    "                 for subj in range(1, nSUBJ+1) ]  # sample * probe\n",
    "\n",
    "## calc DS score for each probes\n",
    "ds_score = np.zeros(probe_reannot_filter2.shape[0])\n",
    "for i in range(len(region_exprs)-1):\n",
    "    exprs1_zscore = (region_exprs[i] - region_exprs[i].mean(axis=0)) / region_exprs[i].std(axis=0)\n",
    "    for j in range(i+1, len(region_exprs)):\n",
    "        exprs2_zscore = (region_exprs[j] - region_exprs[j].mean(axis=0)) / region_exprs[j].std(axis=0)\n",
    "        samples = np.intersect1d(exprs1_zscore.index, exprs2_zscore.index)\n",
    "        ds_score += (exprs1_zscore.loc[samples, :] * exprs2_zscore.loc[samples, :]).sum(axis=0) / (len(samples) - 1)\n",
    "ds_score /= sum(range(len(region_exprs)))\n",
    "\n",
    "## select probe\n",
    "max_ds_idx = pd.DataFrame([ds_score, probe_reannot_filter2.entrez_id]).T.reset_index().set_index(keys=[\"entrez_id\", \"probe_id\"]).groupby(\"entrez_id\").idxmax()[\"Unnamed 0\"]\n",
    "index_probe_keep_DS =  pd.Index(max_ds_idx.apply(lambda x:x[1]).values)\n",
    "probe_reannot_filter3 = probe_reannot_filter2.loc[index_probe_keep_DS, :]\n",
    "for subj in range(1, nSUBJ+1):\n",
    "    data[subj]['exprs'] = data[subj]['exprs'].loc[index_probe_keep_DS, :]\n",
    "    data[subj]['noise'] = data[subj]['noise'].loc[index_probe_keep_DS, :]"
   ]
  },
  {
   "cell_type": "code",
   "execution_count": 165,
   "metadata": {},
   "outputs": [],
   "source": [
    "file_processed_data = \"./AHBA_processing_results/01.processed_AHBA.pkl\"\n",
    "pickle.dump([probe_reannot_filter3, data], open(file_processed_data, 'wb'))"
   ]
  },
  {
   "cell_type": "markdown",
   "metadata": {},
   "source": [
    "# 2.Assign samples to parcellation"
   ]
  },
  {
   "cell_type": "code",
   "execution_count": null,
   "metadata": {},
   "outputs": [],
   "source": []
  },
  {
   "cell_type": "code",
   "execution_count": null,
   "metadata": {},
   "outputs": [],
   "source": []
  },
  {
   "cell_type": "code",
   "execution_count": null,
   "metadata": {},
   "outputs": [],
   "source": []
  },
  {
   "cell_type": "code",
   "execution_count": null,
   "metadata": {},
   "outputs": [],
   "source": []
  },
  {
   "cell_type": "code",
   "execution_count": null,
   "metadata": {},
   "outputs": [],
   "source": []
  },
  {
   "cell_type": "code",
   "execution_count": null,
   "metadata": {},
   "outputs": [],
   "source": []
  },
  {
   "cell_type": "code",
   "execution_count": null,
   "metadata": {},
   "outputs": [],
   "source": []
  }
 ],
 "metadata": {
  "interpreter": {
   "hash": "4fcc540e1488815df76e6b318595c3566285f5bc1293cc742eaa521f117eecc0"
  },
  "kernelspec": {
   "display_name": "Python 3.8.5 64-bit ('base': conda)",
   "name": "python3"
  },
  "language_info": {
   "codemirror_mode": {
    "name": "ipython",
    "version": 3
   },
   "file_extension": ".py",
   "mimetype": "text/x-python",
   "name": "python",
   "nbconvert_exporter": "python",
   "pygments_lexer": "ipython3",
   "version": "3.8.5"
  },
  "orig_nbformat": 4
 },
 "nbformat": 4,
 "nbformat_minor": 2
}
